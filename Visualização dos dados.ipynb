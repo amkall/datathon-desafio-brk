{
 "cells": [
  {
   "cell_type": "markdown",
   "id": "8cc2de40",
   "metadata": {},
   "source": [
    "# Visualizando os dados tratados do SNIS"
   ]
  },
  {
   "cell_type": "code",
   "execution_count": 1,
   "id": "010b1637",
   "metadata": {},
   "outputs": [],
   "source": [
    "import pandas as pd\n",
    "\n",
    "from matplotlib import pyplot as plt\n",
    "from matplotlib import rcParams\n",
    "import seaborn as sns"
   ]
  },
  {
   "cell_type": "code",
   "execution_count": 2,
   "id": "56951578",
   "metadata": {},
   "outputs": [],
   "source": [
    "%matplotlib inline\n",
    "rcParams['figure.figsize'] = 8, 4\n",
    "sns.set_style('whitegrid')"
   ]
  },
  {
   "cell_type": "markdown",
   "id": "bd0f1931",
   "metadata": {},
   "source": [
    "## Carrega os dados tratados\n",
    "### Visualização das colunas para analise"
   ]
  },
  {
   "cell_type": "code",
   "execution_count": 3,
   "id": "6edffb06",
   "metadata": {},
   "outputs": [
    {
     "data": {
      "text/plain": [
       "['Unnamed: 0',\n",
       " 'Código do Município',\n",
       " 'Município',\n",
       " 'Estado',\n",
       " 'Ano de Referência',\n",
       " 'Prestadores',\n",
       " 'AG001 - População total atendida com abastecimento de água',\n",
       " 'AG002 - Quantidade de ligações ativas de água',\n",
       " 'AG003 - Quantidade de economias ativas de água',\n",
       " 'AG005 - Extensão da rede de água',\n",
       " 'AG006 - Volume de água produzido',\n",
       " 'AG007 - Volume de água tratada em ETAs',\n",
       " 'AG011 - Volume de água faturado',\n",
       " 'FN006 - Arrecadação total',\n",
       " 'FN010 - Despesa com pessoal próprio',\n",
       " 'FN011 - Despesa com produtos químicos',\n",
       " 'FN013 - Despesa com energia elétrica',\n",
       " 'FN014 - Despesa com serviços de terceiros',\n",
       " 'FN015 - Despesas de Exploração (DEX)',\n",
       " 'FN017 - Despesas totais com os serviços (DTS)',\n",
       " 'FN020 - Despesa com água importada (bruta ou tratada)',\n",
       " 'FN021 - Despesas fiscais ou tributárias computadas na DEX']"
      ]
     },
     "execution_count": 3,
     "metadata": {},
     "output_type": "execute_result"
    }
   ],
   "source": [
    "caminho = 'Dados_tratados_snis_agua.csv'\n",
    "df = pd.read_csv(caminho)\n",
    "\n",
    "df.columns.tolist()"
   ]
  },
  {
   "cell_type": "markdown",
   "id": "73ff655d",
   "metadata": {},
   "source": [
    "## Separação dos dados de rede de agua e esgoto para visualização"
   ]
  },
  {
   "cell_type": "markdown",
   "id": "880264dd",
   "metadata": {},
   "source": [
    "df_2019 = df[df['Ano de Referência'].str.contains(\"2019\")==True]\n",
    "df_2019.sort_values(['AG005 - Extensão da rede de água'], ascending = False, axis = 0, inplace = True)\n",
    "\n",
    "df_redeAgua = df_2019[['Município', 'Estado', 'AG005 - Extensão da rede de água','ES004 - Extensão da rede de esgotos' ]].head(7)\n",
    "df_redeAgua.index = df_redeAgua.Município"
   ]
  },
  {
   "cell_type": "markdown",
   "id": "3ad929a8",
   "metadata": {},
   "source": [
    "df_redeAgua.plot(kind='bar')\n",
    "plt.show()"
   ]
  },
  {
   "cell_type": "code",
   "execution_count": 5,
   "id": "8b4bbd15",
   "metadata": {},
   "outputs": [],
   "source": [
    "df_2019.sort_values(['AG002 - Quantidade de ligações ativas de água'], ascending = False, axis = 0, inplace = True)\n",
    "\n",
    "df_prejuizo = df_2019[['Município', 'Estado', 'AG002 - Quantidade de ligações ativas de água','AG003 - Quantidade de economias ativas de água']].head()\n",
    "df_prejuizo.index = df_prejuizo.Município"
   ]
  },
  {
   "cell_type": "code",
   "execution_count": 6,
   "id": "e89d584f",
   "metadata": {},
   "outputs": [
    {
     "data": {
      "image/png": "[encoded data removed]",
      "text/plain": [
       "<Figure size 576x288 with 1 Axes>"
      ]
     },
     "metadata": {},
     "output_type": "display_data"
    }
   ],
   "source": [
    "df_prejuizo.plot(kind='barh')\n",
    "plt.show()"
   ]
  },
  {
   "cell_type": "code",
   "execution_count": null,
   "id": "182e96d9",
   "metadata": {},
   "outputs": [],
   "source": []
  }
 ],
 "metadata": {
  "kernelspec": {
   "display_name": "Python 3",
   "language": "python",
   "name": "python3"
  },
  "language_info": {
   "codemirror_mode": {
    "name": "ipython",
    "version": 3
   },
   "file_extension": ".py",
   "mimetype": "text/x-python",
   "name": "python",
   "nbconvert_exporter": "python",
   "pygments_lexer": "ipython3",
   "version": "3.8.8"
  }
 },
 "nbformat": 4,
 "nbformat_minor": 5
}
