{
 "cells": [
  {
   "cell_type": "markdown",
   "id": "d81879e6",
   "metadata": {},
   "source": [
    "# Datathon BRK\n",
    "## tratamento de dados "
   ]
  },
  {
   "cell_type": "code",
   "execution_count": 68,
   "id": "b3bc4803",
   "metadata": {},
   "outputs": [],
   "source": [
    "import pandas as pd\n",
    "import numpy as np\n",
    "import matplotlib.pyplot as plt\n",
    "import csv"
   ]
  },
  {
   "cell_type": "markdown",
   "id": "31d3ebee",
   "metadata": {},
   "source": [
    "## lista o nome de todas as colunas de dados"
   ]
  },
  {
   "cell_type": "code",
   "execution_count": 87,
   "id": "1b3152b4",
   "metadata": {},
   "outputs": [
    {
     "name": "stderr",
     "output_type": "stream",
     "text": [
      "C:\\Users\\Bruno Araujo Muniz\\anaconda3\\lib\\site-packages\\IPython\\core\\interactiveshell.py:3165: DtypeWarning: Columns (339) have mixed types.Specify dtype option on import or set low_memory=False.\n",
      "  has_raised = await self.run_ast_nodes(code_ast.body, cell_name,\n"
     ]
    }
   ],
   "source": [
    "path = 'base2019_2.csv'\n",
    "df = pd.read_csv(path, sep=\";\", encoding='latin-1')\n",
    "\n",
    "df.drop(df.tail(1).index,inplace=True)"
   ]
  },
  {
   "cell_type": "code",
   "execution_count": 88,
   "id": "39a7a7f4",
   "metadata": {},
   "outputs": [],
   "source": [
    "#df_brk = df[['Município','Ano de Referência', 'AG005 - Extensão da rede de água']]\n",
    "#df_brk = df_brk[df['Município'].str.contains(\"Rio das Ostras\")==True]\n",
    "#df_brk\n"
   ]
  },
  {
   "cell_type": "markdown",
   "id": "7e623e5f",
   "metadata": {},
   "source": [
    "## Definindo quais variaveis serão utilizadas, com base no banco de dados original"
   ]
  },
  {
   "cell_type": "code",
   "execution_count": 89,
   "id": "e3f5bc02",
   "metadata": {},
   "outputs": [
    {
     "data": {
      "text/plain": [
       "(5570, 21)"
      ]
     },
     "execution_count": 89,
     "metadata": {},
     "output_type": "execute_result"
    }
   ],
   "source": [
    "df_agua = df[['Código do Município', 'Município','Estado', 'Ano de Referência', 'Prestadores', 'AG001 - População total atendida com abastecimento de água', \n",
    "         'AG002 - Quantidade de ligações ativas de água','AG003 - Quantidade de economias ativas de água', 'AG005 - Extensão da rede de água', \n",
    "         'AG006 - Volume de água produzido', 'AG007 - Volume de água tratada em ETAs', 'AG011 - Volume de água faturado',\n",
    "         'FN006 - Arrecadação total', 'FN010 - Despesa com pessoal próprio', 'FN011 - Despesa com produtos químicos', 'FN013 - Despesa com energia elétrica',\n",
    "         'FN014 - Despesa com serviços de terceiros', 'FN015 - Despesas de Exploração (DEX)', 'FN017 - Despesas totais com os serviços (DTS)',\n",
    "         'FN020 - Despesa com água importada (bruta ou tratada)', 'FN021 - Despesas fiscais ou tributárias computadas na DEX']]\n",
    "df_esgoto = df[['Código do Município', 'Município','Estado', 'Ano de Referência', 'Prestadores','ES002 - Quantidade de ligações ativas de esgotos',\n",
    "         'ES003 - Quantidade de economias ativas de esgotos','ES004 - Extensão da rede de esgotos', 'ES005 - Volume de esgotos coletado',\n",
    "         'ES006 - Volume de esgotos tratado', 'ES007 - Volume de esgotos faturado', 'ES009 - Quantidade de ligações totais de esgotos',\n",
    "         'ES026 - População urbana atendida com esgotamento sanitário', 'FN039 - Despesa com esgoto exportado']]\n",
    "df_agua.shape"
   ]
  },
  {
   "cell_type": "code",
   "execution_count": 90,
   "id": "3481c011",
   "metadata": {},
   "outputs": [
    {
     "data": {
      "text/plain": [
       "(5570, 14)"
      ]
     },
     "execution_count": 90,
     "metadata": {},
     "output_type": "execute_result"
    }
   ],
   "source": [
    "df_esgoto.shape"
   ]
  },
  {
   "cell_type": "markdown",
   "id": "50cd44e0",
   "metadata": {},
   "source": [
    "## Analisa quantas linhas cada coluna tem em branco"
   ]
  },
  {
   "cell_type": "code",
   "execution_count": 91,
   "id": "4a7f20ac",
   "metadata": {},
   "outputs": [
    {
     "data": {
      "text/plain": [
       "Index(['Código do Município', 'Município', 'Estado', 'Ano de Referência',\n",
       "       'Prestadores',\n",
       "       'AG001 - População total atendida com abastecimento de água',\n",
       "       'AG002 - Quantidade de ligações ativas de água',\n",
       "       'AG003 - Quantidade de economias ativas de água',\n",
       "       'AG005 - Extensão da rede de água', 'AG006 - Volume de água produzido',\n",
       "       'AG007 - Volume de água tratada em ETAs',\n",
       "       'AG011 - Volume de água faturado', 'FN006 - Arrecadação total',\n",
       "       'FN010 - Despesa com pessoal próprio',\n",
       "       'FN011 - Despesa com produtos químicos',\n",
       "       'FN013 - Despesa com energia elétrica',\n",
       "       'FN014 - Despesa com serviços de terceiros',\n",
       "       'FN015 - Despesas de Exploração (DEX)',\n",
       "       'FN017 - Despesas totais com os serviços (DTS)',\n",
       "       'FN020 - Despesa com água importada (bruta ou tratada)',\n",
       "       'FN021 - Despesas fiscais ou tributárias computadas na DEX'],\n",
       "      dtype='object')"
      ]
     },
     "execution_count": 91,
     "metadata": {},
     "output_type": "execute_result"
    }
   ],
   "source": [
    "df_agua.columns\n"
   ]
  },
  {
   "cell_type": "code",
   "execution_count": 92,
   "id": "0596dd5e",
   "metadata": {},
   "outputs": [
    {
     "data": {
      "text/plain": [
       "Index(['Código do Município', 'Município', 'Estado', 'Ano de Referência',\n",
       "       'Prestadores', 'ES002 - Quantidade de ligações ativas de esgotos',\n",
       "       'ES003 - Quantidade de economias ativas de esgotos',\n",
       "       'ES004 - Extensão da rede de esgotos',\n",
       "       'ES005 - Volume de esgotos coletado',\n",
       "       'ES006 - Volume de esgotos tratado',\n",
       "       'ES007 - Volume de esgotos faturado',\n",
       "       'ES009 - Quantidade de ligações totais de esgotos',\n",
       "       'ES026 - População urbana atendida com esgotamento sanitário',\n",
       "       'FN039 - Despesa com esgoto exportado'],\n",
       "      dtype='object')"
      ]
     },
     "execution_count": 92,
     "metadata": {},
     "output_type": "execute_result"
    }
   ],
   "source": [
    "df_esgoto.columns\n"
   ]
  },
  {
   "cell_type": "markdown",
   "id": "61dcd683",
   "metadata": {},
   "source": [
    "## Identifica quais dados estão relacionados com a BRK e os salva em um arquivo .csv"
   ]
  },
  {
   "cell_type": "code",
   "execution_count": 93,
   "id": "d91493c3",
   "metadata": {},
   "outputs": [],
   "source": [
    "#df_brk = df[df['Prestador'].str.contains(\"BRK\")==True]\n",
    "#df_brk.to_csv(\"Dados_snis_BRK.csv\")\n",
    "#df_brk"
   ]
  },
  {
   "cell_type": "markdown",
   "id": "ea746f50",
   "metadata": {},
   "source": [
    "## Verificação de celulas vazias"
   ]
  },
  {
   "cell_type": "code",
   "execution_count": 94,
   "id": "8417fb38",
   "metadata": {},
   "outputs": [
    {
     "data": {
      "text/plain": [
       "Código do Município                                             0\n",
       "Município                                                       0\n",
       "Estado                                                          0\n",
       "Ano de Referência                                               0\n",
       "Prestadores                                                   302\n",
       "AG001 - População total atendida com abastecimento de água    393\n",
       "AG002 - Quantidade de ligações ativas de água                 393\n",
       "AG003 - Quantidade de economias ativas de água                393\n",
       "AG005 - Extensão da rede de água                              393\n",
       "AG006 - Volume de água produzido                              393\n",
       "AG007 - Volume de água tratada em ETAs                        393\n",
       "AG011 - Volume de água faturado                               393\n",
       "FN006 - Arrecadação total                                     393\n",
       "FN010 - Despesa com pessoal próprio                           393\n",
       "FN011 - Despesa com produtos químicos                         393\n",
       "FN013 - Despesa com energia elétrica                          393\n",
       "FN014 - Despesa com serviços de terceiros                     393\n",
       "FN015 - Despesas de Exploração (DEX)                          393\n",
       "FN017 - Despesas totais com os serviços (DTS)                 393\n",
       "FN020 - Despesa com água importada (bruta ou tratada)         393\n",
       "FN021 - Despesas fiscais ou tributárias computadas na DEX     445\n",
       "dtype: int64"
      ]
     },
     "execution_count": 94,
     "metadata": {},
     "output_type": "execute_result"
    }
   ],
   "source": [
    "df_agua.isnull().sum()"
   ]
  },
  {
   "cell_type": "code",
   "execution_count": 95,
   "id": "953c9cb5",
   "metadata": {},
   "outputs": [
    {
     "data": {
      "text/plain": [
       "Código do Município                                               0\n",
       "Município                                                         0\n",
       "Estado                                                            0\n",
       "Ano de Referência                                                 0\n",
       "Prestadores                                                     302\n",
       "ES002 - Quantidade de ligações ativas de esgotos               2962\n",
       "ES003 - Quantidade de economias ativas de esgotos              3368\n",
       "ES004 - Extensão da rede de esgotos                            2962\n",
       "ES005 - Volume de esgotos coletado                             2962\n",
       "ES006 - Volume de esgotos tratado                              2962\n",
       "ES007 - Volume de esgotos faturado                             2962\n",
       "ES009 - Quantidade de ligações totais de esgotos               2962\n",
       "ES026 - População urbana atendida com esgotamento sanitário    2980\n",
       "FN039 - Despesa com esgoto exportado                           2962\n",
       "dtype: int64"
      ]
     },
     "execution_count": 95,
     "metadata": {},
     "output_type": "execute_result"
    }
   ],
   "source": [
    "df_esgoto.isnull().sum()"
   ]
  },
  {
   "cell_type": "markdown",
   "id": "258e3804",
   "metadata": {},
   "source": [
    "## Define quantas celulas nulas por linha o dataframe pode ter sem precisar remove-la"
   ]
  },
  {
   "cell_type": "code",
   "execution_count": 96,
   "id": "5938571e",
   "metadata": {},
   "outputs": [],
   "source": [
    "df_esgoto = df_esgoto.dropna(thresh=11, axis=0)\n",
    "df_agua = df_agua.dropna(thresh=13, axis=0)\n",
    "\n"
   ]
  },
  {
   "cell_type": "code",
   "execution_count": 97,
   "id": "1192bb9c",
   "metadata": {},
   "outputs": [
    {
     "data": {
      "text/plain": [
       "(5177, 21)"
      ]
     },
     "execution_count": 97,
     "metadata": {},
     "output_type": "execute_result"
    }
   ],
   "source": [
    "df_agua.shape"
   ]
  },
  {
   "cell_type": "code",
   "execution_count": 98,
   "id": "192118e4",
   "metadata": {},
   "outputs": [
    {
     "data": {
      "text/plain": [
       "(2608, 14)"
      ]
     },
     "execution_count": 98,
     "metadata": {},
     "output_type": "execute_result"
    }
   ],
   "source": [
    "df_esgoto.shape"
   ]
  },
  {
   "cell_type": "markdown",
   "id": "cf970281",
   "metadata": {},
   "source": [
    "## Define todos os valores em branco do datafreme para ZERO"
   ]
  },
  {
   "cell_type": "code",
   "execution_count": 99,
   "id": "2f778946",
   "metadata": {},
   "outputs": [],
   "source": [
    "#df_esgoto = df_esgoto.fillna(0)\n",
    "#df_agua   = df_agua.fillna(0)"
   ]
  },
  {
   "cell_type": "markdown",
   "id": "d90f4cea",
   "metadata": {},
   "source": [
    "## Convertendo notação numerica brasileira para notação internacional\n",
    "### necessario para o uso das bibliotecas de visualização de dados"
   ]
  },
  {
   "cell_type": "code",
   "execution_count": 100,
   "id": "56da59dd",
   "metadata": {},
   "outputs": [
    {
     "name": "stderr",
     "output_type": "stream",
     "text": [
      "<ipython-input-100-7e72d75f1a33>:7: FutureWarning: The default value of regex will change from True to False in a future version. In addition, single character regular expressions will*not* be treated as literal strings when regex=True.\n",
      "  df_esgoto[aux] = df_esgoto[aux].str.replace('.', '')\n"
     ]
    }
   ],
   "source": [
    "colunas = df_esgoto.columns\n",
    "i = 0;\n",
    "for aux in colunas:\n",
    "    if i > 4:\n",
    "        df_esgoto[aux] = df_esgoto[aux].astype(str)\n",
    "        #o ponto e removido\n",
    "        df_esgoto[aux] = df_esgoto[aux].str.replace('.', '')\n",
    "        #a virgula e substituida pelo ponto\n",
    "        df_esgoto[aux] = df_esgoto[aux].str.replace(',', '.')\n",
    "\n",
    "        df_esgoto[aux] = df_esgoto[aux].astype(float)\n",
    "    i = i + 1"
   ]
  },
  {
   "cell_type": "code",
   "execution_count": 101,
   "id": "d7e1ab75",
   "metadata": {},
   "outputs": [
    {
     "name": "stderr",
     "output_type": "stream",
     "text": [
      "<ipython-input-101-61d95ecf4073>:7: FutureWarning: The default value of regex will change from True to False in a future version. In addition, single character regular expressions will*not* be treated as literal strings when regex=True.\n",
      "  df_agua[aux] = df_agua[aux].str.replace('.', '')\n"
     ]
    }
   ],
   "source": [
    "colunas = df_agua.columns\n",
    "i = 0;\n",
    "for aux in colunas:\n",
    "    if i > 4:\n",
    "        df_agua[aux] = df_agua[aux].astype(str)\n",
    "        #o ponto e removido\n",
    "        df_agua[aux] = df_agua[aux].str.replace('.', '')\n",
    "        #a virgula e substituida pelo ponto\n",
    "        df_agua[aux] = df_agua[aux].str.replace(',', '.')\n",
    "\n",
    "        df_agua[aux] = df_agua[aux].astype(float)\n",
    "    i = i + 1"
   ]
  },
  {
   "cell_type": "markdown",
   "id": "cf986476",
   "metadata": {},
   "source": [
    "## Mostra os novos tipos das variaveis "
   ]
  },
  {
   "cell_type": "code",
   "execution_count": 82,
   "id": "bdb49545",
   "metadata": {},
   "outputs": [
    {
     "data": {
      "text/plain": [
       "Código do Município                                           object\n",
       "Município                                                     object\n",
       "Estado                                                        object\n",
       "Ano de Referência                                             object\n",
       "Prestadores                                                   object\n",
       "AG001 - População total atendida com abastecimento de água    object\n",
       "AG002 - Quantidade de ligações ativas de água                 object\n",
       "AG003 - Quantidade de economias ativas de água                object\n",
       "AG005 - Extensão da rede de água                              object\n",
       "AG006 - Volume de água produzido                              object\n",
       "AG007 - Volume de água tratada em ETAs                        object\n",
       "AG011 - Volume de água faturado                               object\n",
       "FN006 - Arrecadação total                                     object\n",
       "FN010 - Despesa com pessoal próprio                           object\n",
       "FN011 - Despesa com produtos químicos                         object\n",
       "FN013 - Despesa com energia elétrica                          object\n",
       "FN014 - Despesa com serviços de terceiros                     object\n",
       "FN015 - Despesas de Exploração (DEX)                          object\n",
       "FN017 - Despesas totais com os serviços (DTS)                 object\n",
       "FN020 - Despesa com água importada (bruta ou tratada)         object\n",
       "FN021 - Despesas fiscais ou tributárias computadas na DEX     object\n",
       "dtype: object"
      ]
     },
     "execution_count": 82,
     "metadata": {},
     "output_type": "execute_result"
    }
   ],
   "source": [
    "df_agua.dtypes"
   ]
  },
  {
   "cell_type": "markdown",
   "id": "fad4f5f6",
   "metadata": {},
   "source": [
    "## visão gráfica geral dos dados "
   ]
  },
  {
   "cell_type": "code",
   "execution_count": 83,
   "id": "dfb1aaa9",
   "metadata": {},
   "outputs": [],
   "source": [
    "df_agua.to_csv(\"Dados_tratados_snis_agua.csv\")\n",
    "df_esgoto.to_csv(\"Dados_tratados_snis_esgoto.csv\")"
   ]
  },
  {
   "cell_type": "code",
   "execution_count": null,
   "id": "2341137b",
   "metadata": {},
   "outputs": [],
   "source": []
  }
 ],
 "metadata": {
  "kernelspec": {
   "display_name": "Python 3",
   "language": "python",
   "name": "python3"
  },
  "language_info": {
   "codemirror_mode": {
    "name": "ipython",
    "version": 3
   },
   "file_extension": ".py",
   "mimetype": "text/x-python",
   "name": "python",
   "nbconvert_exporter": "python",
   "pygments_lexer": "ipython3",
   "version": "3.8.8"
  }
 },
 "nbformat": 4,
 "nbformat_minor": 5
}
